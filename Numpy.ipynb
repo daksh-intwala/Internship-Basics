{
 "cells": [
  {
   "cell_type": "code",
   "execution_count": 7,
   "id": "04450122",
   "metadata": {},
   "outputs": [
    {
     "name": "stdout",
     "output_type": "stream",
     "text": [
      "the set of numbers whose arithmetic mean, median & mode are to be calculated: [87 59 30 14 99 48 83  8 42 49 27 69 42 96 66 71 51 58 43 49]\n",
      "the mean is: 54.55\n",
      "the median is: 50.0\n",
      "the mode is: ModeResult(mode=array([42]), count=array([2]))\n"
     ]
    }
   ],
   "source": [
    "import numpy as np\n",
    "from scipy import stats\n",
    "\n",
    "numbers=np.random.randint(100,size=(20))\n",
    "\n",
    "mean=np.mean(numbers)\n",
    "median=np.median(numbers)\n",
    "mode=stats.mode(numbers)\n",
    "\n",
    "print('the set of numbers whose arithmetic mean, median & mode are to be calculated: {}'.format(numbers))\n",
    "print('the mean is: {}'.format(mean))\n",
    "print('the median is: {}'.format(median))\n",
    "print('the mode is: {}'.format(mode))"
   ]
  },
  {
   "cell_type": "code",
   "execution_count": null,
   "id": "1585d5b1",
   "metadata": {},
   "outputs": [],
   "source": []
  }
 ],
 "metadata": {
  "kernelspec": {
   "display_name": "Python 3",
   "language": "python",
   "name": "python3"
  },
  "language_info": {
   "codemirror_mode": {
    "name": "ipython",
    "version": 3
   },
   "file_extension": ".py",
   "mimetype": "text/x-python",
   "name": "python",
   "nbconvert_exporter": "python",
   "pygments_lexer": "ipython3",
   "version": "3.8.10"
  }
 },
 "nbformat": 4,
 "nbformat_minor": 5
}
