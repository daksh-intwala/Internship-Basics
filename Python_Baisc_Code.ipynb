{
 "cells": [
  {
   "cell_type": "code",
   "execution_count": 27,
   "id": "384230d1",
   "metadata": {},
   "outputs": [
    {
     "name": "stdout",
     "output_type": "stream",
     "text": [
      "The original set of numbers is: array('i', [0, 1, 2, 3, 4, 5, 6, 7, 8, 9, 5, 6, 7, 8, 9, 10, 11, 12, 13, 14, 15])\n",
      "The mean value of the set of numbers is: 7.380952380952381\n",
      "The median value of the set of numbers is: 5\n",
      "The mode value of the set of numbers is: [5, 6, 7, 8, 9]\n"
     ]
    }
   ],
   "source": [
    "import array\n",
    "arr=array.array('i',range(0,10))+ array.array('i',range(5,16))\n",
    "\n",
    "#for mean\n",
    "def mean(arr):\n",
    "    sum=0\n",
    "    for i in range(len(arr)):\n",
    "        sum+=arr[i]\n",
    "    return sum/len(arr)\n",
    "\n",
    "#for median\n",
    "def median(arr):\n",
    "    if len(arr)%2 == 0:\n",
    "        median = (arr[len(arr)//2 -1] + arr[len(arr)//2])/2\n",
    "    else:\n",
    "        median = (arr[len(arr)//2])\n",
    "    return median\n",
    "\n",
    "# for mode\n",
    "import math\n",
    "from collections import Counter\n",
    "def mode(arr):\n",
    "    answer = []\n",
    "    arr1 = Counter(arr) \n",
    "    temp = arr1.most_common(1)[0][1] \n",
    "    for i in arr:\n",
    "        if arr.count(i) == temp:\n",
    "            answer.append(i)\n",
    "    answer = list(set(answer))\n",
    "    return answer\n",
    "  \n",
    "# printing result \n",
    "print(\"The original set of numbers is: {}\".format(arr))\n",
    "print(\"The mean value of the set of numbers is: {}\".format(mean(arr)))\n",
    "print(\"The median value of the set of numbers is: {}\".format(median(arr)))\n",
    "print(\"The mode value of the set of numbers is: {}\".format(mode(arr)))"
   ]
  },
  {
   "cell_type": "code",
   "execution_count": null,
   "id": "469a065c",
   "metadata": {},
   "outputs": [],
   "source": []
  }
 ],
 "metadata": {
  "kernelspec": {
   "display_name": "Python 3",
   "language": "python",
   "name": "python3"
  },
  "language_info": {
   "codemirror_mode": {
    "name": "ipython",
    "version": 3
   },
   "file_extension": ".py",
   "mimetype": "text/x-python",
   "name": "python",
   "nbconvert_exporter": "python",
   "pygments_lexer": "ipython3",
   "version": "3.8.10"
  }
 },
 "nbformat": 4,
 "nbformat_minor": 5
}
